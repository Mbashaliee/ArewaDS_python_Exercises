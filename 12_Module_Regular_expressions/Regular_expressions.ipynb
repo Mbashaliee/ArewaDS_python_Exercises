{
 "cells": [
  {
   "cell_type": "markdown",
   "metadata": {},
   "source": [
    "# MODULE 12 OF 30 Days of python programming"
   ]
  },
  {
   "cell_type": "markdown",
   "metadata": {},
   "source": [
    "## 💻 Exercises - Module 1 Regular Expressions\n",
    "\n",
    "**Exercises: Level 1**"
   ]
  },
  {
   "cell_type": "markdown",
   "metadata": {},
   "source": [
    "1. What is the most frequent word in the following paragraph?"
   ]
  },
  {
   "cell_type": "code",
   "execution_count": 6,
   "metadata": {},
   "outputs": [
    {
     "name": "stdout",
     "output_type": "stream",
     "text": [
      "'love' is the most frequent word which appears 6 times in the paragraph.\n"
     ]
    }
   ],
   "source": [
    "paragraph = 'I love teaching. If you do not love teaching what else can you love. I love Python if you do not love something which can give you all the capabilities to develop an application what else can you love.'\n",
    "# Clean the text\n",
    "paragraph = paragraph.lower()  # Convert to lowercase\n",
    "for char in \".,!?;\":          # Remove punctuation\n",
    "    paragraph = paragraph.replace(char, \"\")\n",
    "\n",
    "# Split into words\n",
    "words = paragraph.split()  # Turn the paragraph into a list of words\n",
    "\n",
    "# Count each word\n",
    "word_counts = {}\n",
    "for word in words:\n",
    "    if word in word_counts:\n",
    "        word_counts[word] += 1  # If the word is already counted, add 1\n",
    "    else:\n",
    "        word_counts[word] = 1   # Otherwise, start the count at 1\n",
    "\n",
    "# Find the most frequent word\n",
    "most_frequent_word = max(word_counts, key=word_counts.get)  # Get the word with the highest count\n",
    "count = word_counts[most_frequent_word]\n",
    "\n",
    "print(f\"'{most_frequent_word}' is the most frequent word which appears {count} times in the paragraph.\")"
   ]
  },
  {
   "cell_type": "markdown",
   "metadata": {},
   "source": [
    "2. The position of some particles on the horizontal x-axis are -12, -4, -3 and -1 in the negative direction, 0 at origin, 4 and 8 in the positive direction. Extract these numbers from this whole text and find the distance between the two furthest particles."
   ]
  },
  {
   "cell_type": "markdown",
   "metadata": {},
   "source": [
    "- Extracted Points: [-12, -4, -3, -1, 0, 4, 8]\n",
    "- Sorted Points: [-12, -4, -3, -1, 0, 4, 8]\n",
    "- Distance between the furthest particles: 20\n"
   ]
  },
  {
   "cell_type": "code",
   "execution_count": 7,
   "metadata": {},
   "outputs": [
    {
     "name": "stdout",
     "output_type": "stream",
     "text": [
      "Extracted Points: [-12, -4, -3, -1, 0, 4, 8]\n",
      "Sorted Points: [-12, -4, -3, -1, 0, 4, 8]\n",
      "Distance between the furthest particles: 20\n"
     ]
    }
   ],
   "source": [
    "import re\n",
    "text = \"The position of some particles on the horizontal x-axis are -12, -4, -3 and -1 in the negative direction, 0 at origin, 4 and 8 in the positive direction.\"\n",
    "\n",
    "points = list(map(int, re.findall(r\"-?\\d+\", text)))\n",
    "\n",
    "sorted_points = sorted(points)\n",
    "\n",
    "distance = sorted_points[-1] - sorted_points[0]\n",
    "\n",
    "print(\"Extracted Points:\", points)\n",
    "print(\"Sorted Points:\", sorted_points)\n",
    "print(\"Distance between the furthest particles:\", distance)\n"
   ]
  },
  {
   "cell_type": "markdown",
   "metadata": {},
   "source": [
    "**Exercises: Level 2**"
   ]
  },
  {
   "cell_type": "markdown",
   "metadata": {},
   "source": [
    "1. Write a pattern which identifies if a string is a valid python variable\n",
    "\n",
    "- is_valid_variable('first_name') # True\n",
    "- is_valid_variable('first-name') # False\n",
    "- is_valid_variable('1first_name') # False\n",
    "- is_valid_variable('firstname') # True"
   ]
  },
  {
   "cell_type": "code",
   "execution_count": 8,
   "metadata": {},
   "outputs": [
    {
     "name": "stdout",
     "output_type": "stream",
     "text": [
      "True\n",
      "False\n",
      "False\n",
      "True\n"
     ]
    }
   ],
   "source": [
    "import re\n",
    "import keyword\n",
    "\n",
    "def is_valid_variable(var_name):\n",
    "    if keyword.iskeyword(var_name):\n",
    "        return False\n",
    "    pattern = r'^[a-zA-Z_][a-zA-Z0-9_]*$'\n",
    "    return bool(re.match(pattern, var_name))\n",
    "print(is_valid_variable('first_name'))  \n",
    "print(is_valid_variable('first-name'))  \n",
    "print(is_valid_variable('1first_name')) \n",
    "print(is_valid_variable('firstname'))   \n"
   ]
  },
  {
   "cell_type": "markdown",
   "metadata": {},
   "source": [
    "**Exercises: Level 3**"
   ]
  },
  {
   "cell_type": "markdown",
   "metadata": {},
   "source": [
    "1. Clean the following text. After cleaning, count three most frequent words in the string."
   ]
  },
  {
   "cell_type": "markdown",
   "metadata": {},
   "source": [
    "sentence = '''%I \n",
    "is nothing; &as& mo@re rewarding as educa@ting &and& @emp%o@wering peo@ple. ;I found tea@ching m%o@re interesting tha@n any other %jo@bs. %Do@es thi%s mo@tivate yo@u to be a tea@cher!?'''"
   ]
  },
  {
   "cell_type": "code",
   "execution_count": 11,
   "metadata": {},
   "outputs": [
    {
     "name": "stdout",
     "output_type": "stream",
     "text": [
      "I am a teacher and I love teaching There is nothing as more rewarding as educating and empowering people I found teaching more interesting than any other jobs Does this motivate you to be a teacher\n",
      "[('I', 3), ('a', 2), ('teacher', 2)]\n"
     ]
    }
   ],
   "source": [
    "import re\n",
    "from collections import Counter\n",
    "\n",
    "# Function to clean the text\n",
    "def clean_text(sentence):\n",
    "    # Remove all non-alphanumeric characters except spaces\n",
    "    cleaned = re.sub(r'[^\\w\\s]', '', sentence)\n",
    "    # Remove extra spaces and return cleaned text\n",
    "    return cleaned.strip()\n",
    "\n",
    "# Function to find the most frequent words\n",
    "def most_frequent_words(text):\n",
    "    # Split the cleaned text into words\n",
    "    words = text.split()\n",
    "    # Count the frequency of each word\n",
    "    word_counts = Counter(words)\n",
    "    # Return the three most common words\n",
    "    return word_counts.most_common(3)\n",
    "\n",
    "# Original sentence\n",
    "sentence = '''%I $am@% a %tea@cher%, &and& I lo%#ve %tea@ching%;. There $is nothing; &as& mo@re rewarding as educa@ting &and& @emp%o@wering peo@ple. ;I found tea@ching m%o@re interesting tha@n any other %jo@bs. %Do@es thi%s mo@tivate yo@u to be a tea@cher!?'''\n",
    "\n",
    "# Clean the text\n",
    "cleaned_text = clean_text(sentence)\n",
    "print(cleaned_text)\n",
    "\n",
    "# Find the three most frequent words\n",
    "frequent_words = most_frequent_words(cleaned_text)\n",
    "print(frequent_words)\n"
   ]
  }
 ],
 "metadata": {
  "kernelspec": {
   "display_name": "base",
   "language": "python",
   "name": "python3"
  },
  "language_info": {
   "codemirror_mode": {
    "name": "ipython",
    "version": 3
   },
   "file_extension": ".py",
   "mimetype": "text/x-python",
   "name": "python",
   "nbconvert_exporter": "python",
   "pygments_lexer": "ipython3",
   "version": "3.12.4"
  }
 },
 "nbformat": 4,
 "nbformat_minor": 2
}
